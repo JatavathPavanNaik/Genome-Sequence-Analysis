{
 "cells": [
  {
   "cell_type": "code",
   "execution_count": 53,
   "metadata": {},
   "outputs": [],
   "source": [
    "import pandas as pd\n",
    "import numpy as np\n",
    "from sklearn.svm import SVC\n",
    "from sklearn.metrics import accuracy_score\n",
    "from sklearn.model_selection import GridSearchCV, cross_val_score\n",
    "from sklearn.model_selection import train_test_split"
   ]
  },
  {
   "cell_type": "code",
   "execution_count": 54,
   "metadata": {},
   "outputs": [],
   "source": [
    "train=pd.read_excel(\"/Users/jatavathpavannaik/Documents/python/Machine Learning/Projects/ncrna_train.xlsx\")\n",
    "train=pd.DataFrame(train)\n",
    "test=pd.read_excel(\"/Users/jatavathpavannaik/Documents/python/Machine Learning/Projects/ncrna_test.xlsx\")\n",
    "test=pd.DataFrame(test)"
   ]
  },
  {
   "cell_type": "code",
   "execution_count": 55,
   "metadata": {},
   "outputs": [
    {
     "data": {
      "text/plain": [
       "-1    1356\n",
       " 1     644\n",
       "Name: Label, dtype: int64"
      ]
     },
     "execution_count": 55,
     "metadata": {},
     "output_type": "execute_result"
    }
   ],
   "source": [
    "train[\"Label\"].value_counts()"
   ]
  },
  {
   "cell_type": "code",
   "execution_count": 56,
   "metadata": {},
   "outputs": [
    {
     "data": {
      "text/html": [
       "<div>\n",
       "<style scoped>\n",
       "    .dataframe tbody tr th:only-of-type {\n",
       "        vertical-align: middle;\n",
       "    }\n",
       "\n",
       "    .dataframe tbody tr th {\n",
       "        vertical-align: top;\n",
       "    }\n",
       "\n",
       "    .dataframe thead th {\n",
       "        text-align: right;\n",
       "    }\n",
       "</style>\n",
       "<table border=\"1\" class=\"dataframe\">\n",
       "  <thead>\n",
       "    <tr style=\"text-align: right;\">\n",
       "      <th></th>\n",
       "      <th>Feature1</th>\n",
       "      <th>Feature2</th>\n",
       "      <th>Feature3</th>\n",
       "      <th>Feature4</th>\n",
       "      <th>Feature5</th>\n",
       "      <th>Feature6</th>\n",
       "      <th>Feature7</th>\n",
       "      <th>Feature8</th>\n",
       "      <th>Label</th>\n",
       "    </tr>\n",
       "  </thead>\n",
       "  <tbody>\n",
       "    <tr>\n",
       "      <th>count</th>\n",
       "      <td>2000.000000</td>\n",
       "      <td>2000.000000</td>\n",
       "      <td>2000.000000</td>\n",
       "      <td>2000.000000</td>\n",
       "      <td>2000.000000</td>\n",
       "      <td>2000.000000</td>\n",
       "      <td>1999.000000</td>\n",
       "      <td>1967.000000</td>\n",
       "      <td>2000.00000</td>\n",
       "    </tr>\n",
       "    <tr>\n",
       "      <th>mean</th>\n",
       "      <td>0.826100</td>\n",
       "      <td>0.547768</td>\n",
       "      <td>0.312140</td>\n",
       "      <td>0.373952</td>\n",
       "      <td>0.639853</td>\n",
       "      <td>0.291446</td>\n",
       "      <td>0.342802</td>\n",
       "      <td>0.672366</td>\n",
       "      <td>-0.35600</td>\n",
       "    </tr>\n",
       "    <tr>\n",
       "      <th>std</th>\n",
       "      <td>0.071751</td>\n",
       "      <td>0.352140</td>\n",
       "      <td>0.131569</td>\n",
       "      <td>0.155522</td>\n",
       "      <td>0.146410</td>\n",
       "      <td>0.123472</td>\n",
       "      <td>0.144697</td>\n",
       "      <td>0.132335</td>\n",
       "      <td>0.93472</td>\n",
       "    </tr>\n",
       "    <tr>\n",
       "      <th>min</th>\n",
       "      <td>0.066336</td>\n",
       "      <td>0.022395</td>\n",
       "      <td>0.035533</td>\n",
       "      <td>0.029140</td>\n",
       "      <td>0.072238</td>\n",
       "      <td>0.027974</td>\n",
       "      <td>0.038358</td>\n",
       "      <td>0.086859</td>\n",
       "      <td>-1.00000</td>\n",
       "    </tr>\n",
       "    <tr>\n",
       "      <th>25%</th>\n",
       "      <td>0.790410</td>\n",
       "      <td>0.191855</td>\n",
       "      <td>0.242956</td>\n",
       "      <td>0.290002</td>\n",
       "      <td>0.560445</td>\n",
       "      <td>0.221307</td>\n",
       "      <td>0.268704</td>\n",
       "      <td>0.608479</td>\n",
       "      <td>-1.00000</td>\n",
       "    </tr>\n",
       "    <tr>\n",
       "      <th>50%</th>\n",
       "      <td>0.836236</td>\n",
       "      <td>0.826964</td>\n",
       "      <td>0.300114</td>\n",
       "      <td>0.365291</td>\n",
       "      <td>0.656022</td>\n",
       "      <td>0.283122</td>\n",
       "      <td>0.339688</td>\n",
       "      <td>0.677109</td>\n",
       "      <td>-1.00000</td>\n",
       "    </tr>\n",
       "    <tr>\n",
       "      <th>75%</th>\n",
       "      <td>0.869000</td>\n",
       "      <td>0.895573</td>\n",
       "      <td>0.362762</td>\n",
       "      <td>0.424783</td>\n",
       "      <td>0.738861</td>\n",
       "      <td>0.336356</td>\n",
       "      <td>0.393605</td>\n",
       "      <td>0.758051</td>\n",
       "      <td>1.00000</td>\n",
       "    </tr>\n",
       "    <tr>\n",
       "      <th>max</th>\n",
       "      <td>1.000000</td>\n",
       "      <td>1.000000</td>\n",
       "      <td>1.000000</td>\n",
       "      <td>1.000000</td>\n",
       "      <td>0.977298</td>\n",
       "      <td>1.000000</td>\n",
       "      <td>1.000000</td>\n",
       "      <td>1.000000</td>\n",
       "      <td>1.00000</td>\n",
       "    </tr>\n",
       "  </tbody>\n",
       "</table>\n",
       "</div>"
      ],
      "text/plain": [
       "          Feature1     Feature2     Feature3     Feature4     Feature5  \\\n",
       "count  2000.000000  2000.000000  2000.000000  2000.000000  2000.000000   \n",
       "mean      0.826100     0.547768     0.312140     0.373952     0.639853   \n",
       "std       0.071751     0.352140     0.131569     0.155522     0.146410   \n",
       "min       0.066336     0.022395     0.035533     0.029140     0.072238   \n",
       "25%       0.790410     0.191855     0.242956     0.290002     0.560445   \n",
       "50%       0.836236     0.826964     0.300114     0.365291     0.656022   \n",
       "75%       0.869000     0.895573     0.362762     0.424783     0.738861   \n",
       "max       1.000000     1.000000     1.000000     1.000000     0.977298   \n",
       "\n",
       "          Feature6     Feature7     Feature8       Label  \n",
       "count  2000.000000  1999.000000  1967.000000  2000.00000  \n",
       "mean      0.291446     0.342802     0.672366    -0.35600  \n",
       "std       0.123472     0.144697     0.132335     0.93472  \n",
       "min       0.027974     0.038358     0.086859    -1.00000  \n",
       "25%       0.221307     0.268704     0.608479    -1.00000  \n",
       "50%       0.283122     0.339688     0.677109    -1.00000  \n",
       "75%       0.336356     0.393605     0.758051     1.00000  \n",
       "max       1.000000     1.000000     1.000000     1.00000  "
      ]
     },
     "execution_count": 56,
     "metadata": {},
     "output_type": "execute_result"
    }
   ],
   "source": [
    "train.describe()"
   ]
  },
  {
   "cell_type": "code",
   "execution_count": 57,
   "metadata": {},
   "outputs": [
    {
     "data": {
      "text/html": [
       "<div>\n",
       "<style scoped>\n",
       "    .dataframe tbody tr th:only-of-type {\n",
       "        vertical-align: middle;\n",
       "    }\n",
       "\n",
       "    .dataframe tbody tr th {\n",
       "        vertical-align: top;\n",
       "    }\n",
       "\n",
       "    .dataframe thead th {\n",
       "        text-align: right;\n",
       "    }\n",
       "</style>\n",
       "<table border=\"1\" class=\"dataframe\">\n",
       "  <thead>\n",
       "    <tr style=\"text-align: right;\">\n",
       "      <th></th>\n",
       "      <th>Feature1</th>\n",
       "      <th>Feature2</th>\n",
       "      <th>Feature3</th>\n",
       "      <th>Feature4</th>\n",
       "      <th>Feature5</th>\n",
       "      <th>Feature6</th>\n",
       "      <th>Feature7</th>\n",
       "      <th>Feature8</th>\n",
       "      <th>Label</th>\n",
       "    </tr>\n",
       "  </thead>\n",
       "  <tbody>\n",
       "    <tr>\n",
       "      <th>Feature1</th>\n",
       "      <td>1.000000</td>\n",
       "      <td>0.610883</td>\n",
       "      <td>-0.250514</td>\n",
       "      <td>-0.358944</td>\n",
       "      <td>0.282418</td>\n",
       "      <td>-0.359672</td>\n",
       "      <td>-0.326997</td>\n",
       "      <td>0.332108</td>\n",
       "      <td>0.446640</td>\n",
       "    </tr>\n",
       "    <tr>\n",
       "      <th>Feature2</th>\n",
       "      <td>0.610883</td>\n",
       "      <td>1.000000</td>\n",
       "      <td>0.089070</td>\n",
       "      <td>-0.218624</td>\n",
       "      <td>0.042899</td>\n",
       "      <td>-0.052136</td>\n",
       "      <td>-0.215330</td>\n",
       "      <td>0.149829</td>\n",
       "      <td>0.017341</td>\n",
       "    </tr>\n",
       "    <tr>\n",
       "      <th>Feature3</th>\n",
       "      <td>-0.250514</td>\n",
       "      <td>0.089070</td>\n",
       "      <td>1.000000</td>\n",
       "      <td>0.324073</td>\n",
       "      <td>-0.638968</td>\n",
       "      <td>0.062578</td>\n",
       "      <td>0.018015</td>\n",
       "      <td>-0.011058</td>\n",
       "      <td>0.031026</td>\n",
       "    </tr>\n",
       "    <tr>\n",
       "      <th>Feature4</th>\n",
       "      <td>-0.358944</td>\n",
       "      <td>-0.218624</td>\n",
       "      <td>0.324073</td>\n",
       "      <td>1.000000</td>\n",
       "      <td>-0.782659</td>\n",
       "      <td>0.058751</td>\n",
       "      <td>0.110013</td>\n",
       "      <td>-0.058748</td>\n",
       "      <td>-0.009048</td>\n",
       "    </tr>\n",
       "    <tr>\n",
       "      <th>Feature5</th>\n",
       "      <td>0.282418</td>\n",
       "      <td>0.042899</td>\n",
       "      <td>-0.638968</td>\n",
       "      <td>-0.782659</td>\n",
       "      <td>1.000000</td>\n",
       "      <td>-0.036304</td>\n",
       "      <td>-0.078138</td>\n",
       "      <td>0.031189</td>\n",
       "      <td>-0.014215</td>\n",
       "    </tr>\n",
       "    <tr>\n",
       "      <th>Feature6</th>\n",
       "      <td>-0.359672</td>\n",
       "      <td>-0.052136</td>\n",
       "      <td>0.062578</td>\n",
       "      <td>0.058751</td>\n",
       "      <td>-0.036304</td>\n",
       "      <td>1.000000</td>\n",
       "      <td>0.432743</td>\n",
       "      <td>-0.693976</td>\n",
       "      <td>-0.007980</td>\n",
       "    </tr>\n",
       "    <tr>\n",
       "      <th>Feature7</th>\n",
       "      <td>-0.326997</td>\n",
       "      <td>-0.215330</td>\n",
       "      <td>0.018015</td>\n",
       "      <td>0.110013</td>\n",
       "      <td>-0.078138</td>\n",
       "      <td>0.432743</td>\n",
       "      <td>1.000000</td>\n",
       "      <td>-0.867786</td>\n",
       "      <td>0.001117</td>\n",
       "    </tr>\n",
       "    <tr>\n",
       "      <th>Feature8</th>\n",
       "      <td>0.332108</td>\n",
       "      <td>0.149829</td>\n",
       "      <td>-0.011058</td>\n",
       "      <td>-0.058748</td>\n",
       "      <td>0.031189</td>\n",
       "      <td>-0.693976</td>\n",
       "      <td>-0.867786</td>\n",
       "      <td>1.000000</td>\n",
       "      <td>-0.008280</td>\n",
       "    </tr>\n",
       "    <tr>\n",
       "      <th>Label</th>\n",
       "      <td>0.446640</td>\n",
       "      <td>0.017341</td>\n",
       "      <td>0.031026</td>\n",
       "      <td>-0.009048</td>\n",
       "      <td>-0.014215</td>\n",
       "      <td>-0.007980</td>\n",
       "      <td>0.001117</td>\n",
       "      <td>-0.008280</td>\n",
       "      <td>1.000000</td>\n",
       "    </tr>\n",
       "  </tbody>\n",
       "</table>\n",
       "</div>"
      ],
      "text/plain": [
       "          Feature1  Feature2  Feature3  Feature4  Feature5  Feature6  \\\n",
       "Feature1  1.000000  0.610883 -0.250514 -0.358944  0.282418 -0.359672   \n",
       "Feature2  0.610883  1.000000  0.089070 -0.218624  0.042899 -0.052136   \n",
       "Feature3 -0.250514  0.089070  1.000000  0.324073 -0.638968  0.062578   \n",
       "Feature4 -0.358944 -0.218624  0.324073  1.000000 -0.782659  0.058751   \n",
       "Feature5  0.282418  0.042899 -0.638968 -0.782659  1.000000 -0.036304   \n",
       "Feature6 -0.359672 -0.052136  0.062578  0.058751 -0.036304  1.000000   \n",
       "Feature7 -0.326997 -0.215330  0.018015  0.110013 -0.078138  0.432743   \n",
       "Feature8  0.332108  0.149829 -0.011058 -0.058748  0.031189 -0.693976   \n",
       "Label     0.446640  0.017341  0.031026 -0.009048 -0.014215 -0.007980   \n",
       "\n",
       "          Feature7  Feature8     Label  \n",
       "Feature1 -0.326997  0.332108  0.446640  \n",
       "Feature2 -0.215330  0.149829  0.017341  \n",
       "Feature3  0.018015 -0.011058  0.031026  \n",
       "Feature4  0.110013 -0.058748 -0.009048  \n",
       "Feature5 -0.078138  0.031189 -0.014215  \n",
       "Feature6  0.432743 -0.693976 -0.007980  \n",
       "Feature7  1.000000 -0.867786  0.001117  \n",
       "Feature8 -0.867786  1.000000 -0.008280  \n",
       "Label     0.001117 -0.008280  1.000000  "
      ]
     },
     "execution_count": 57,
     "metadata": {},
     "output_type": "execute_result"
    }
   ],
   "source": [
    "train.corr()"
   ]
  },
  {
   "cell_type": "code",
   "execution_count": 58,
   "metadata": {},
   "outputs": [
    {
     "data": {
      "text/plain": [
       "Feature1     0\n",
       "Feature2     0\n",
       "Feature3     0\n",
       "Feature4     0\n",
       "Feature5     0\n",
       "Feature6     0\n",
       "Feature7     1\n",
       "Feature8    33\n",
       "Label        0\n",
       "dtype: int64"
      ]
     },
     "execution_count": 58,
     "metadata": {},
     "output_type": "execute_result"
    }
   ],
   "source": [
    "train.isna().sum()"
   ]
  },
  {
   "cell_type": "code",
   "execution_count": 59,
   "metadata": {},
   "outputs": [],
   "source": [
    "train[\"Feature7\"].fillna(np.mean(train[\"Feature7\"]),inplace=True)\n",
    "train[\"Feature8\"].fillna(np.mean(train[\"Feature8\"]),inplace=True)\n"
   ]
  },
  {
   "cell_type": "code",
   "execution_count": 60,
   "metadata": {},
   "outputs": [
    {
     "data": {
      "text/plain": [
       "Feature1    0\n",
       "Feature2    0\n",
       "Feature3    0\n",
       "Feature4    0\n",
       "Feature5    0\n",
       "Feature6    0\n",
       "Feature7    0\n",
       "Feature8    0\n",
       "Label       0\n",
       "dtype: int64"
      ]
     },
     "execution_count": 60,
     "metadata": {},
     "output_type": "execute_result"
    }
   ],
   "source": [
    "train.isna().sum()"
   ]
  },
  {
   "cell_type": "code",
   "execution_count": 61,
   "metadata": {},
   "outputs": [],
   "source": [
    "X = train.drop('Label', axis=1)  # Features\n",
    "y = train['Label']  # Labels\n",
    "\n",
    "X_train, X_test, y_train, y_test = train_test_split(X, y, test_size=0.2, random_state=42)\n",
    "\n"
   ]
  },
  {
   "cell_type": "code",
   "execution_count": 62,
   "metadata": {},
   "outputs": [
    {
     "name": "stdout",
     "output_type": "stream",
     "text": [
      "Logistic Regression Accuracy: 0.7475\n",
      "Naive Bayes Accuracy: 0.745\n",
      "Support Vector Machine Accuracy:: 0.9375\n"
     ]
    }
   ],
   "source": [
    "from sklearn.linear_model import LogisticRegression\n",
    "from xgboost import XGBClassifier\n",
    "from sklearn.naive_bayes import GaussianNB\n",
    "from sklearn.metrics import accuracy_score\n",
    "\n",
    "# Assuming X_train, y_train, X_test, y_test are your training and testing data\n",
    "\n",
    "# Logistic Regression\n",
    "logistic_reg = LogisticRegression()\n",
    "logistic_reg.fit(X_train, y_train)\n",
    "logistic_pred = logistic_reg.predict(X_test)\n",
    "logistic_accuracy = accuracy_score(y_test, logistic_pred)\n",
    "print(\"Logistic Regression Accuracy:\", logistic_accuracy)\n",
    "\n",
    "# # XGBoost\n",
    "# xgb = XGBClassifier()\n",
    "# xgb.fit(X_train, y_train)\n",
    "# xgb_pred = xgb.predict(X_test)\n",
    "# xgb_accuracy = accuracy_score(y_test, xgb_pred)\n",
    "# print(\"XGBoost Accuracy:\", xgb_accuracy)\n",
    "\n",
    "# Naive Bayes\n",
    "naive_bayes = GaussianNB()\n",
    "naive_bayes.fit(X_train, y_train)\n",
    "naive_bayes_pred = naive_bayes.predict(X_test)\n",
    "naive_bayes_accuracy = accuracy_score(y_test, naive_bayes_pred)\n",
    "print(\"Naive Bayes Accuracy:\", naive_bayes_accuracy)\n",
    "\n",
    "SVM_Cla = SVC()\n",
    "SVM_Cla.fit(X_train, y_train)\n",
    "SVM_pred = SVM_Cla.predict(X_test)\n",
    "SVM_accuracy = accuracy_score(y_test, SVM_pred)\n",
    "print(\"Support Vector Machine Accuracy::\", SVM_accuracy)"
   ]
  },
  {
   "cell_type": "code",
   "execution_count": 63,
   "metadata": {},
   "outputs": [],
   "source": [
    "param_grid_svm = {'C': [0.1, 1, 10, 100,1000,0.001,0.0001],\n",
    "                  'gamma': [0.01, 0.1, 1, 10, 100,1000,0.001,0.0001]}\n",
    "grid_search_svm = GridSearchCV(SVC(), param_grid_svm, cv=5)\n",
    "grid_search_svm.fit(X_train, y_train)\n",
    "best_params_svm = grid_search_svm.best_params_"
   ]
  },
  {
   "cell_type": "code",
   "execution_count": 64,
   "metadata": {},
   "outputs": [
    {
     "data": {
      "text/plain": [
       "{'C': 100, 'gamma': 1}"
      ]
     },
     "execution_count": 64,
     "metadata": {},
     "output_type": "execute_result"
    }
   ],
   "source": [
    "best_params_svm"
   ]
  },
  {
   "cell_type": "code",
   "execution_count": 65,
   "metadata": {},
   "outputs": [
    {
     "data": {
      "image/png": "[encoded data removed]",
      "text/plain": [
       "<Figure size 1000x600 with 1 Axes>"
      ]
     },
     "metadata": {},
     "output_type": "display_data"
    }
   ],
   "source": [
    "import numpy as np\n",
    "import matplotlib.pyplot as plt\n",
    "from sklearn.svm import SVC\n",
    "from sklearn.metrics import accuracy_score\n",
    "from sklearn.model_selection import train_test_split\n",
    "\n",
    "accuracy_list = []\n",
    "C_values = [0.001, 0.01, 0.1, 1, 10, 100,1000,0.0001]\n",
    "\n",
    "\n",
    "for C in C_values:\n",
    "    svm_model = SVC(kernel='linear', C=C)\n",
    "    svm_model.fit(X_train, y_train)\n",
    "    \n",
    "    y_pred_valid = svm_model.predict(X_test)\n",
    "    \n",
    "    accuracy = accuracy_score(y_test, y_pred_valid)\n",
    "    accuracy_list.append(accuracy)\n",
    "\n",
    "plt.figure(figsize=(10, 6))\n",
    "plt.plot(C_values, accuracy_list, marker='o')\n",
    "plt.xscale('log')\n",
    "plt.title('Classification Accuracy vs. Regularization Parameter (C)')\n",
    "plt.xlabel('Regularization Parameter (C)')\n",
    "plt.ylabel('Classification Accuracy')\n",
    "plt.grid(True)\n",
    "plt.show()\n"
   ]
  },
  {
   "cell_type": "code",
   "execution_count": 66,
   "metadata": {},
   "outputs": [],
   "source": [
    "train=train.sample(int(train.shape[0]/2))"
   ]
  },
  {
   "cell_type": "code",
   "execution_count": 67,
   "metadata": {},
   "outputs": [],
   "source": [
    "X=train.iloc[:,:-1]\n",
    "y=train.iloc[:,-1]"
   ]
  },
  {
   "cell_type": "code",
   "execution_count": 68,
   "metadata": {},
   "outputs": [
    {
     "name": "stdout",
     "output_type": "stream",
     "text": [
      "Cross Validation Results:\n",
      "[[0.673 0.671 0.671 0.671 0.671 0.671 0.671]\n",
      " [0.813 0.675 0.671 0.671 0.671 0.671 0.671]\n",
      " [0.84  0.95  0.671 0.671 0.671 0.671 0.671]\n",
      " [0.839 0.944 0.707 0.671 0.671 0.671 0.671]\n",
      " [0.841 0.938 0.94  0.671 0.671 0.671 0.671]\n",
      " [0.671 0.671 0.671 0.671 0.671 0.671 0.671]\n",
      " [0.671 0.671 0.671 0.671 0.671 0.671 0.671]]\n"
     ]
    }
   ],
   "source": [
    "C_values = [0.1, 1, 10,100,1000,0.001,0.0001]\n",
    "sigma_values = [0.1, 1, 10,100,1000,0.001,0.0001]\n",
    "\n",
    "cv_results = np.zeros((len(C_values), len(sigma_values)))\n",
    "\n",
    "for i, C in enumerate(C_values):\n",
    "    for j, sigma in enumerate(sigma_values):\n",
    "        svm = SVC(kernel='rbf', C=C, gamma=1/(2*sigma**2))\n",
    "        \n",
    "        scores = cross_val_score(svm, X, y, cv=5)\n",
    "        \n",
    "        cv_results[i, j] = np.mean(scores)\n",
    "\n",
    "print(\"Cross Validation Results:\")\n",
    "print(cv_results)"
   ]
  },
  {
   "cell_type": "code",
   "execution_count": 69,
   "metadata": {},
   "outputs": [
    {
     "data": {
      "text/html": [
       "<style>#sk-container-id-3 {color: black;}#sk-container-id-3 pre{padding: 0;}#sk-container-id-3 div.sk-toggleable {background-color: white;}#sk-container-id-3 label.sk-toggleable__label {cursor: pointer;display: block;width: 100%;margin-bottom: 0;padding: 0.3em;box-sizing: border-box;text-align: center;}#sk-container-id-3 label.sk-toggleable__label-arrow:before {content: \"▸\";float: left;margin-right: 0.25em;color: #696969;}#sk-container-id-3 label.sk-toggleable__label-arrow:hover:before {color: black;}#sk-container-id-3 div.sk-estimator:hover label.sk-toggleable__label-arrow:before {color: black;}#sk-container-id-3 div.sk-toggleable__content {max-height: 0;max-width: 0;overflow: hidden;text-align: left;background-color: #f0f8ff;}#sk-container-id-3 div.sk-toggleable__content pre {margin: 0.2em;color: black;border-radius: 0.25em;background-color: #f0f8ff;}#sk-container-id-3 input.sk-toggleable__control:checked~div.sk-toggleable__content {max-height: 200px;max-width: 100%;overflow: auto;}#sk-container-id-3 input.sk-toggleable__control:checked~label.sk-toggleable__label-arrow:before {content: \"▾\";}#sk-container-id-3 div.sk-estimator input.sk-toggleable__control:checked~label.sk-toggleable__label {background-color: #d4ebff;}#sk-container-id-3 div.sk-label input.sk-toggleable__control:checked~label.sk-toggleable__label {background-color: #d4ebff;}#sk-container-id-3 input.sk-hidden--visually {border: 0;clip: rect(1px 1px 1px 1px);clip: rect(1px, 1px, 1px, 1px);height: 1px;margin: -1px;overflow: hidden;padding: 0;position: absolute;width: 1px;}#sk-container-id-3 div.sk-estimator {font-family: monospace;background-color: #f0f8ff;border: 1px dotted black;border-radius: 0.25em;box-sizing: border-box;margin-bottom: 0.5em;}#sk-container-id-3 div.sk-estimator:hover {background-color: #d4ebff;}#sk-container-id-3 div.sk-parallel-item::after {content: \"\";width: 100%;border-bottom: 1px solid gray;flex-grow: 1;}#sk-container-id-3 div.sk-label:hover label.sk-toggleable__label {background-color: #d4ebff;}#sk-container-id-3 div.sk-serial::before {content: \"\";position: absolute;border-left: 1px solid gray;box-sizing: border-box;top: 0;bottom: 0;left: 50%;z-index: 0;}#sk-container-id-3 div.sk-serial {display: flex;flex-direction: column;align-items: center;background-color: white;padding-right: 0.2em;padding-left: 0.2em;position: relative;}#sk-container-id-3 div.sk-item {position: relative;z-index: 1;}#sk-container-id-3 div.sk-parallel {display: flex;align-items: stretch;justify-content: center;background-color: white;position: relative;}#sk-container-id-3 div.sk-item::before, #sk-container-id-3 div.sk-parallel-item::before {content: \"\";position: absolute;border-left: 1px solid gray;box-sizing: border-box;top: 0;bottom: 0;left: 50%;z-index: -1;}#sk-container-id-3 div.sk-parallel-item {display: flex;flex-direction: column;z-index: 1;position: relative;background-color: white;}#sk-container-id-3 div.sk-parallel-item:first-child::after {align-self: flex-end;width: 50%;}#sk-container-id-3 div.sk-parallel-item:last-child::after {align-self: flex-start;width: 50%;}#sk-container-id-3 div.sk-parallel-item:only-child::after {width: 0;}#sk-container-id-3 div.sk-dashed-wrapped {border: 1px dashed gray;margin: 0 0.4em 0.5em 0.4em;box-sizing: border-box;padding-bottom: 0.4em;background-color: white;}#sk-container-id-3 div.sk-label label {font-family: monospace;font-weight: bold;display: inline-block;line-height: 1.2em;}#sk-container-id-3 div.sk-label-container {text-align: center;}#sk-container-id-3 div.sk-container {/* jupyter's `normalize.less` sets `[hidden] { display: none; }` but bootstrap.min.css set `[hidden] { display: none !important; }` so we also need the `!important` here to be able to override the default hidden behavior on the sphinx rendered scikit-learn.org. See: https://github.com/scikit-learn/scikit-learn/issues/21755 */display: inline-block !important;position: relative;}#sk-container-id-3 div.sk-text-repr-fallback {display: none;}</style><div id=\"sk-container-id-3\" class=\"sk-top-container\"><div class=\"sk-text-repr-fallback\"><pre>SVC(C=1000, gamma=0.005)</pre><b>In a Jupyter environment, please rerun this cell to show the HTML representation or trust the notebook. <br />On GitHub, the HTML representation is unable to render, please try loading this page with nbviewer.org.</b></div><div class=\"sk-container\" hidden><div class=\"sk-item\"><div class=\"sk-estimator sk-toggleable\"><input class=\"sk-toggleable__control sk-hidden--visually\" id=\"sk-estimator-id-3\" type=\"checkbox\" checked><label for=\"sk-estimator-id-3\" class=\"sk-toggleable__label sk-toggleable__label-arrow\">SVC</label><div class=\"sk-toggleable__content\"><pre>SVC(C=1000, gamma=0.005)</pre></div></div></div></div></div>"
      ],
      "text/plain": [
       "SVC(C=1000, gamma=0.005)"
      ]
     },
     "execution_count": 69,
     "metadata": {},
     "output_type": "execute_result"
    }
   ],
   "source": [
    "model= SVC(kernel='rbf',C=1000,gamma=1/(2*10**2))\n",
    "model.fit(X,y)"
   ]
  },
  {
   "cell_type": "code",
   "execution_count": 70,
   "metadata": {},
   "outputs": [],
   "source": [
    "scores = cross_val_score(model, X, y, cv=5)"
   ]
  },
  {
   "cell_type": "code",
   "execution_count": 71,
   "metadata": {},
   "outputs": [
    {
     "data": {
      "text/plain": [
       "0.9400000000000001"
      ]
     },
     "execution_count": 71,
     "metadata": {},
     "output_type": "execute_result"
    }
   ],
   "source": [
    "np.average(scores)"
   ]
  },
  {
   "cell_type": "code",
   "execution_count": 72,
   "metadata": {},
   "outputs": [],
   "source": [
    "test[\"Feature7\"].fillna(np.mean(test[\"Feature7\"]),inplace=True)\n",
    "test[\"Feature8\"].fillna(np.mean(test[\"Feature8\"]),inplace=True)"
   ]
  },
  {
   "cell_type": "code",
   "execution_count": 73,
   "metadata": {},
   "outputs": [],
   "source": [
    "a=model.predict(test)"
   ]
  },
  {
   "cell_type": "code",
   "execution_count": 74,
   "metadata": {},
   "outputs": [],
   "source": [
    "b=SVM_Cla.predict(test)"
   ]
  },
  {
   "cell_type": "code",
   "execution_count": 75,
   "metadata": {},
   "outputs": [
    {
     "name": "stdout",
     "output_type": "stream",
     "text": [
      "Matching Percentage :  0.972027972027972\n"
     ]
    }
   ],
   "source": [
    "accuracy_svm = accuracy_score(a, b)\n",
    "print(\"Matching Percentage : \", accuracy_svm)"
   ]
  }
 ],
 "metadata": {
  "kernelspec": {
   "display_name": "base",
   "language": "python",
   "name": "python3"
  },
  "language_info": {
   "codemirror_mode": {
    "name": "ipython",
    "version": 3
   },
   "file_extension": ".py",
   "mimetype": "text/x-python",
   "name": "python",
   "nbconvert_exporter": "python",
   "pygments_lexer": "ipython3",
   "version": "3.11.0"
  },
  "orig_nbformat": 4
 },
 "nbformat": 4,
 "nbformat_minor": 2
}
